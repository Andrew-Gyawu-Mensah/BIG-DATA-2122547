{
 "cells": [
  {
   "cell_type": "code",
   "execution_count": 11,
   "metadata": {},
   "outputs": [
    {
     "name": "stdout",
     "output_type": "stream",
     "text": [
      "Cold\n"
     ]
    }
   ],
   "source": [
    "temperature = int(input(\"Please input the current temperature in Celsius: \"))\n",
    "if temperature < 0:\n",
    "    print(\"Freezing\")\n",
    "elif temperature >= 0:\n",
    "    print(\"Cold\")\n",
    "elif temperature >= 15:\n",
    "    print(\"Nice\")\n",
    "elif temperature >= 25:\n",
    "    print(\"Hot\")"
   ]
  },
  {
   "cell_type": "code",
   "execution_count": 13,
   "metadata": {},
   "outputs": [
    {
     "name": "stdout",
     "output_type": "stream",
     "text": [
      "o o o \n",
      "o o o \n",
      "o o o \n"
     ]
    }
   ],
   "source": [
    "for x in range(3):\n",
    "    for y in range(3):\n",
    "        print(\"o\", end=\" \")\n",
    "    print()\n",
    "    "
   ]
  },
  {
   "cell_type": "code",
   "execution_count": 17,
   "metadata": {},
   "outputs": [
    {
     "name": "stdout",
     "output_type": "stream",
     "text": [
      "o \n",
      "o o \n",
      "o o o \n",
      "o o o o \n",
      "o o o o o \n",
      "o o o o o o \n",
      "o o o o o o o \n",
      "o o o o o o o o \n"
     ]
    }
   ],
   "source": [
    "for x in range(8):\n",
    "    for y in range(x+1):\n",
    "        print(\"o\", end=\" \")\n",
    "    print()\n",
    "  "
   ]
  },
  {
   "cell_type": "code",
   "execution_count": 19,
   "metadata": {},
   "outputs": [
    {
     "name": "stdout",
     "output_type": "stream",
     "text": [
      "15\n"
     ]
    }
   ],
   "source": [
    "def addition(x, y):\n",
    "    return x + y\n",
    "\n",
    "num1 = int(7)\n",
    "num2 = int(8)\n",
    "\n",
    "print(addition(num1, num2))\n"
   ]
  },
  {
   "cell_type": "code",
   "execution_count": 25,
   "metadata": {},
   "outputs": [
    {
     "name": "stdout",
     "output_type": "stream",
     "text": [
      "200.96\n"
     ]
    }
   ],
   "source": [
    "def circle_area(radius):\n",
    "    return 3.14 * radius * radius\n",
    "\n",
    "length = int(8)\n",
    "print(circle_area(length))"
   ]
  }
 ],
 "metadata": {
  "kernelspec": {
   "display_name": "Python 3",
   "language": "python",
   "name": "python3"
  },
  "language_info": {
   "codemirror_mode": {
    "name": "ipython",
    "version": 3
   },
   "file_extension": ".py",
   "mimetype": "text/x-python",
   "name": "python",
   "nbconvert_exporter": "python",
   "pygments_lexer": "ipython3",
   "version": "3.10.12"
  }
 },
 "nbformat": 4,
 "nbformat_minor": 2
}
